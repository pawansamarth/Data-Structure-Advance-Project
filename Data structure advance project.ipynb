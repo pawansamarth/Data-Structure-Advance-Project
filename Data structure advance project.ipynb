{
 "cells": [
  {
   "cell_type": "code",
   "execution_count": 20,
   "id": "dbaa6ae4-6c5e-4604-99d7-5e38d2de5b1b",
   "metadata": {},
   "outputs": [
    {
     "data": {
      "text/plain": [
       "'HelloWorld'"
      ]
     },
     "execution_count": 20,
     "metadata": {},
     "output_type": "execute_result"
    }
   ],
   "source": [
    "## Q.1) Write a code to reverse a string.\n",
    "s = \"HelloWorld\"\n",
    "s"
   ]
  },
  {
   "cell_type": "code",
   "execution_count": 21,
   "id": "8dd30e9d-a540-4881-9e34-d8d0890e5a04",
   "metadata": {},
   "outputs": [
    {
     "data": {
      "text/plain": [
       "'dlroWolleH'"
      ]
     },
     "execution_count": 21,
     "metadata": {},
     "output_type": "execute_result"
    }
   ],
   "source": [
    "s[::-1]"
   ]
  },
  {
   "cell_type": "code",
   "execution_count": 22,
   "id": "d8ed3167-b4c8-46b4-8237-82f6e089a940",
   "metadata": {},
   "outputs": [
    {
     "name": "stdout",
     "output_type": "stream",
     "text": [
      "Number of vowels in 'Hello, World!': 3\n"
     ]
    }
   ],
   "source": [
    "## Q.2) Write a code to count the number of vowel in a string.\n",
    "def count_vowels(s):\n",
    "    # Define a set of vowels\n",
    "    vowels = set('aeiouAEIOU')\n",
    "    \n",
    "    # Initialize the vowel count\n",
    "    count = 0\n",
    "    \n",
    "    # Iterate through the string\n",
    "    for char in s:\n",
    "        if char in vowels:\n",
    "            count += 1\n",
    "    return count\n",
    "\n",
    "input_string = \"Hello, World!\"\n",
    "vowel_count = count_vowels(input_string)\n",
    "print(f\"Number of vowels in '{input_string}':\", vowel_count)"
   ]
  },
  {
   "cell_type": "code",
   "execution_count": 23,
   "id": "7ea0a7ca-8c70-4745-b6e2-9e26abc0b309",
   "metadata": {},
   "outputs": [
    {
     "name": "stdout",
     "output_type": "stream",
     "text": [
      "'racecar' is a palindrome\n"
     ]
    }
   ],
   "source": [
    "## Q.3) Write a code to check if a given string is a palindrome or not.\n",
    "def is_palindrome(s):\n",
    "    # Normalize the string by removing non-alphanumeric characters and converting to lowercase\n",
    "    normalized_str = ''.join(char.lower() for char in s if char.isalnum())\n",
    "    \n",
    "    # Check if the normalized string is equal to its reverse\n",
    "    return normalized_str == normalized_str[::-1]\n",
    "\n",
    "input_string = \"racecar\"\n",
    "if is_palindrome(input_string):\n",
    "    print(f\"'{input_string}' is a palindrome\")\n",
    "else:\n",
    "    print(f\"'{input_string}' is not a palindrome\")"
   ]
  },
  {
   "cell_type": "code",
   "execution_count": 24,
   "id": "e91e8c36-5ca5-4f05-9e99-b1ddff967ccb",
   "metadata": {},
   "outputs": [
    {
     "name": "stdout",
     "output_type": "stream",
     "text": [
      "'Listen' and 'Silent' are anagrams: True\n"
     ]
    }
   ],
   "source": [
    "## Q.4) Write a code to check if two given strings are anagrams of each other.\n",
    "def are_anagrams(str1, str2):\n",
    "    # Remove spaces and convert to lowercase to make comparison case-insensitive\n",
    "    str1 = str1.replace(\" \", \"\").lower()\n",
    "    str2 = str2.replace(\" \", \"\").lower()\n",
    "    \n",
    "    # Check if the lengths are different\n",
    "    if len(str1) != len(str2):\n",
    "        return False\n",
    "    \n",
    "    # Use a dictionary to count the frequency of each character in str1\n",
    "    char_count = {}\n",
    "    \n",
    "    # Count characters in str1\n",
    "    for char in str1:\n",
    "        if char in char_count:\n",
    "            char_count[char] += 1\n",
    "        else:\n",
    "            char_count[char] = 1\n",
    "    \n",
    "    # Subtract counts based on str2\n",
    "    for char in str2:\n",
    "        if char in char_count:\n",
    "            char_count[char] -= 1\n",
    "            if char_count[char] < 0:\n",
    "                return False\n",
    "        else:\n",
    "            return False\n",
    "    \n",
    "    # If all counts are zero, then str1 and str2 are anagrams\n",
    "    return True\n",
    "\n",
    "string1 = \"Listen\"\n",
    "string2 = \"Silent\"\n",
    "print(f\"'{string1}' and '{string2}' are anagrams: {are_anagrams(string1, string2)}\")"
   ]
  },
  {
   "cell_type": "code",
   "execution_count": 25,
   "id": "92cfd9d3-7f22-4c1f-81f8-82ef30cd8f40",
   "metadata": {},
   "outputs": [
    {
     "name": "stdout",
     "output_type": "stream",
     "text": [
      "Occurrences of 'test' in the text: [10, 21, 36]\n"
     ]
    }
   ],
   "source": [
    "## Q.5) Write a code to find all occurrences of a given substring within another string.\n",
    "def find_all_occurrences(haystack, needle):\n",
    "    start = 0\n",
    "    indices = []\n",
    "    while True:\n",
    "        start = haystack.find(needle, start)\n",
    "        if start == -1:  # No more occurrences found\n",
    "            break\n",
    "        indices.append(start)\n",
    "        start += len(needle)  # Move past the current match\n",
    "    return indices\n",
    "\n",
    "text = \"This is a test. This test is only a test.\"\n",
    "substring = \"test\"\n",
    "\n",
    "occurrences = find_all_occurrences(text, substring)\n",
    "print(f\"Occurrences of '{substring}' in the text: {occurrences}\")"
   ]
  },
  {
   "cell_type": "code",
   "execution_count": 26,
   "id": "548485dd-de4b-4e6a-9577-f70454ca364c",
   "metadata": {},
   "outputs": [
    {
     "name": "stdout",
     "output_type": "stream",
     "text": [
      "a2b1c5a3\n"
     ]
    }
   ],
   "source": [
    "## Q.6) Write a code to perform basic string compression using the counts of repeated characters.\n",
    "def compress_string(s):\n",
    "    # Initialize variables\n",
    "    compressed = []\n",
    "    count = 1\n",
    "    \n",
    "    # Iterate through the string\n",
    "    for i in range(1, len(s)):\n",
    "        if s[i] == s[i - 1]:\n",
    "            count += 1\n",
    "        else:\n",
    "            # Append the character and its count to the compressed list\n",
    "            compressed.append(s[i - 1] + str(count))\n",
    "            count = 1\n",
    "    \n",
    "    # Append the last character and its count\n",
    "    compressed.append(s[-1] + str(count))\n",
    "    \n",
    "    # Join the compressed list into a string\n",
    "    compressed_string = ''.join(compressed)\n",
    "    \n",
    "    # Return the original string if the compressed string is not shorter\n",
    "    return compressed_string if len(compressed_string) < len(s) else s\n",
    "\n",
    "input_string = \"aabcccccaaa\"\n",
    "compressed_string = compress_string(input_string)\n",
    "print(compressed_string) "
   ]
  },
  {
   "cell_type": "code",
   "execution_count": 27,
   "id": "6f07c9f2-1c03-4b63-8dc6-6d3587348704",
   "metadata": {},
   "outputs": [],
   "source": [
    "## Q.7) Write a code to determine if a string has all unique characters."
   ]
  },
  {
   "cell_type": "code",
   "execution_count": 28,
   "id": "e46edc99-9d70-4823-ba9d-773fe0c7e875",
   "metadata": {},
   "outputs": [
    {
     "name": "stdout",
     "output_type": "stream",
     "text": [
      "'abcdefg' has all unique characters\n"
     ]
    }
   ],
   "source": [
    "def has_unique_characters(s):\n",
    "    # Use a set to track characters we have seen\n",
    "    seen_characters = set()\n",
    "    \n",
    "    # Iterate through the string\n",
    "    for char in s:\n",
    "        if char in seen_characters:\n",
    "            # If the character is already in the set, it's a duplicate\n",
    "            return False\n",
    "        # Add the character to the set\n",
    "        seen_characters.add(char)\n",
    "    \n",
    "    # If no duplicates were found, the string has all unique characters\n",
    "    return True\n",
    "\n",
    "input_string = \"abcdefg\"\n",
    "if has_unique_characters(input_string):\n",
    "    print(f\"'{input_string}' has all unique characters\")\n",
    "else:\n",
    "    print(f\"'{input_string}' does not have all unique characters\")"
   ]
  },
  {
   "cell_type": "code",
   "execution_count": 29,
   "id": "d7c4896f-51ab-466c-80b1-a211ea5ae002",
   "metadata": {},
   "outputs": [],
   "source": [
    "## Q.8) Write a code to convert a given string to uppercase or lowercase."
   ]
  },
  {
   "cell_type": "code",
   "execution_count": 30,
   "id": "2fd2926c-1e4e-434c-82bf-c0690200ae52",
   "metadata": {},
   "outputs": [
    {
     "data": {
      "text/plain": [
       "'Hello, Rahul'"
      ]
     },
     "execution_count": 30,
     "metadata": {},
     "output_type": "execute_result"
    }
   ],
   "source": [
    "text = \"Hello, Rahul\"\n",
    "text"
   ]
  },
  {
   "cell_type": "code",
   "execution_count": 31,
   "id": "1a095cc1-860c-49e3-b7c2-2d87110c40ab",
   "metadata": {},
   "outputs": [
    {
     "data": {
      "text/plain": [
       "'HELLO, RAHUL'"
      ]
     },
     "execution_count": 31,
     "metadata": {},
     "output_type": "execute_result"
    }
   ],
   "source": [
    "text.upper()"
   ]
  },
  {
   "cell_type": "code",
   "execution_count": 32,
   "id": "1db9bddd-ecf0-4eb1-bac4-37af53146488",
   "metadata": {},
   "outputs": [
    {
     "data": {
      "text/plain": [
       "'hello, rahul'"
      ]
     },
     "execution_count": 32,
     "metadata": {},
     "output_type": "execute_result"
    }
   ],
   "source": [
    "text.lower()"
   ]
  },
  {
   "cell_type": "code",
   "execution_count": 33,
   "id": "c9e81d8e-7e32-4a2a-a945-23b26292ded0",
   "metadata": {},
   "outputs": [
    {
     "name": "stdout",
     "output_type": "stream",
     "text": [
      "Number of words: 4\n"
     ]
    }
   ],
   "source": [
    "## Q.9) Write a code to count the number of words in a string.\n",
    "def count_words(s):\n",
    "        # Split the string into words based on whitespace\n",
    "    words = s.split()\n",
    "    \n",
    "    # Return the number of words\n",
    "    return len(words)\n",
    "\n",
    "input_string = \"ajay, data analytics, teacher\"\n",
    "word_count = count_words(input_string)\n",
    "print(f\"Number of words: {word_count}\")"
   ]
  },
  {
   "cell_type": "code",
   "execution_count": 34,
   "id": "343e5bb2-4c12-46ec-8c07-4a6330fc71d5",
   "metadata": {},
   "outputs": [
    {
     "name": "stdout",
     "output_type": "stream",
     "text": [
      "HelloWorld\n"
     ]
    }
   ],
   "source": [
    "## Q.10) Write a code to concatenate two strings without using the + operator.\n",
    "## Using String formatting\n",
    "def concatenate_strings(s1, s2):\n",
    "    return \"{}{}\".format(s1, s2)\n",
    "\n",
    "string1 = \"Hello\"\n",
    "string2 = \"World\"\n",
    "result = concatenate_strings(string1, string2)\n",
    "print(result)"
   ]
  },
  {
   "cell_type": "code",
   "execution_count": 3,
   "id": "6117eae3-8529-453b-9931-6efc6d7338c3",
   "metadata": {},
   "outputs": [
    {
     "name": "stdout",
     "output_type": "stream",
     "text": [
      "[1, 2, 4, 5]\n"
     ]
    }
   ],
   "source": [
    "## Q.11) Write a code to remove all occurrences of a specific element from a list.\n",
    "def remove_element(lst, element):\n",
    "    return [item for item in lst if item != element]\n",
    "\n",
    "my_list = [1, 2, 3, 4, 3, 5, 3]\n",
    "element_to_remove = 3\n",
    "new_list = remove_element(my_list, element_to_remove)\n",
    "print(new_list)"
   ]
  },
  {
   "cell_type": "code",
   "execution_count": 8,
   "id": "0603c4b2-9cf6-451a-80ae-4caf5c0ff55c",
   "metadata": {},
   "outputs": [
    {
     "name": "stdout",
     "output_type": "stream",
     "text": [
      "45\n"
     ]
    }
   ],
   "source": [
    "## Q.12) Implement a code to find the second largest number in a given list of integer.\n",
    "my_list = [10, 20, 4, 45, 99, 45, 99]\n",
    "second_largest_number = second_largest(my_list)\n",
    "print(second_largest_number)"
   ]
  },
  {
   "cell_type": "code",
   "execution_count": 12,
   "id": "0de2d996-5c71-41fb-9108-2414934895c7",
   "metadata": {},
   "outputs": [
    {
     "name": "stdout",
     "output_type": "stream",
     "text": [
      "{1: 1, 2: 2, 3: 1, 4: 3, 5: 1}\n"
     ]
    }
   ],
   "source": [
    "## Q.13) Create a code to count the occurences of each element in a list & return a dictionary with elements \n",
    "##       as a keys and their counts as a values.\n",
    "my_l = [1, 2, 2, 3, 4, 4, 4, 5]\n",
    "occurrences_dict = count_occurrences(my_l)\n",
    "print(occurrences_dict)"
   ]
  },
  {
   "cell_type": "code",
   "execution_count": 18,
   "id": "ea04a8ef-925e-4b59-a326-3a740bbed39e",
   "metadata": {},
   "outputs": [
    {
     "name": "stdout",
     "output_type": "stream",
     "text": [
      "[5, 4, 3, 2, 1]\n"
     ]
    }
   ],
   "source": [
    "## Q.14) Write a code to reverse a list in-place without using any built-in reverse functions. \n",
    "def reverse_list(lst):\n",
    "    left = 0\n",
    "    right = len(lst) - 1\n",
    "    \n",
    "    while left < right:\n",
    "        # Swap the elements at the left and right indices\n",
    "        lst[left], lst[right] = lst[right], lst[left]\n",
    "        \n",
    "        # Move the pointers towards the center\n",
    "        left += 1\n",
    "        right -= 1\n",
    "\n",
    "my_list = [1, 2, 3, 4, 5]\n",
    "reverse_list(my_list)\n",
    "print(my_list)"
   ]
  },
  {
   "cell_type": "code",
   "execution_count": 21,
   "id": "cdfbaf05-5e21-4e99-9e13-4d815f2dbf6c",
   "metadata": {},
   "outputs": [
    {
     "name": "stdout",
     "output_type": "stream",
     "text": [
      "[1, 2, 3, 4, 5]\n"
     ]
    }
   ],
   "source": [
    "## Q.15) Implement a code to find & remove duplicates from a list while preserving the original order of elements.\n",
    "def remove_duplicates(lst):\n",
    "    seen = set()\n",
    "    unique_list = []\n",
    "    for element in lst:\n",
    "        if element not in seen:\n",
    "            unique_list.append(element)\n",
    "            seen.add(element)\n",
    "    return unique_list\n",
    "\n",
    "my_list = [1, 2, 3, 2, 4, 3, 5, 1]\n",
    "result = remove_duplicates(my_list)\n",
    "print(result)"
   ]
  },
  {
   "cell_type": "code",
   "execution_count": 32,
   "id": "6fbb1313-ea32-493e-bcb9-49a53ed7187f",
   "metadata": {},
   "outputs": [
    {
     "name": "stdout",
     "output_type": "stream",
     "text": [
      "True\n",
      "True\n",
      "False\n"
     ]
    }
   ],
   "source": [
    "## Q.16) Create a code to check if a given list is sorted(either ascending or descending order) or not.\n",
    "def is_sorted(lst):\n",
    "    ascending = all(lst[i] <= lst[i + 1] for i in range(len(lst) - 1))\n",
    "    descending = all(lst[i] >= lst[i + 1] for i in range(len(lst) - 1))\n",
    "    return ascending or descending\n",
    "\n",
    "my_list1 = [1, 2, 3, 4, 5]\n",
    "my_list2 = [5, 4, 3, 2, 1]\n",
    "my_list3 = [1, 3, 2, 4, 5]\n",
    "\n",
    "print(is_sorted(my_list1))\n",
    "print(is_sorted(my_list2))  \n",
    "print(is_sorted(my_list3))"
   ]
  },
  {
   "cell_type": "code",
   "execution_count": 34,
   "id": "38fa24e5-852d-46b7-ad0d-7bf4179c19bd",
   "metadata": {},
   "outputs": [
    {
     "name": "stdout",
     "output_type": "stream",
     "text": [
      "[1, 2, 3, 4, 5, 6, 7, 8]\n"
     ]
    }
   ],
   "source": [
    "## Q.17) Write a code to merge two sorted lists into a single sorted list.\n",
    "def merge_sorted_lists(lst1, lst2):\n",
    "    merged_list = []\n",
    "    i, j = 0, 0\n",
    "    \n",
    "    # Traverse both lists and merge them\n",
    "    while i < len(lst1) and j < len(lst2):\n",
    "        if lst1[i] <= lst2[j]:\n",
    "            merged_list.append(lst1[i])\n",
    "            i += 1\n",
    "        else:\n",
    "            merged_list.append(lst2[j])\n",
    "            j += 1\n",
    "    \n",
    "    # If there are remaining elements in lst1, add them to merged_list\n",
    "    while i < len(lst1):\n",
    "        merged_list.append(lst1[i])\n",
    "        i += 1\n",
    "    \n",
    "    # If there are remaining elements in lst2, add them to merged_list\n",
    "    while j < len(lst2):\n",
    "        merged_list.append(lst2[j])\n",
    "        j += 1\n",
    "    \n",
    "    return merged_list\n",
    "\n",
    "list1 = [1, 3, 5, 7]\n",
    "list2 = [2, 4, 6, 8]\n",
    "merged_list = merge_sorted_lists(list1, list2)\n",
    "print(merged_list) "
   ]
  },
  {
   "cell_type": "code",
   "execution_count": 35,
   "id": "b6aa093d-d31e-4869-b6a2-181d56af8867",
   "metadata": {},
   "outputs": [
    {
     "name": "stdout",
     "output_type": "stream",
     "text": [
      "[4, 5]\n"
     ]
    }
   ],
   "source": [
    "## Q.18) Implement a code to find the intersection of two given lists.\n",
    "def find_intersection(lst1, lst2):\n",
    "    # Use a set to store elements from lst1\n",
    "    set_lst1 = set(lst1)\n",
    "    \n",
    "    # Use list comprehension to find common elements\n",
    "    intersection = [element for element in lst2 if element in set_lst1]\n",
    "    return intersection\n",
    "\n",
    "list1 = [1, 2, 3, 4, 5]\n",
    "list2 = [4, 5, 6, 7, 8]\n",
    "intersection_list = find_intersection(list1, list2)\n",
    "print(intersection_list)"
   ]
  },
  {
   "cell_type": "code",
   "execution_count": 37,
   "id": "21a820d7-9678-4175-af8c-ba2edbd59057",
   "metadata": {},
   "outputs": [
    {
     "name": "stdout",
     "output_type": "stream",
     "text": [
      "[1, 2, 3, 4, 5, 6, 7, 8]\n"
     ]
    }
   ],
   "source": [
    "## Q.19) Create a code to find the union of two lists without duplicates.\n",
    "def find_union(lst1, lst2):\n",
    "    # Use a set to combine both lists and remove duplicates\n",
    "    union_set = set(lst1).union(set(lst2))\n",
    "    \n",
    "    # Convert the set back to a list to preserve the original type\n",
    "    return list(union_set)\n",
    "\n",
    "list1 = [1, 2, 3, 4, 5]\n",
    "list2 = [4, 5, 6, 7, 8]\n",
    "union_list = find_union(list1, list2)\n",
    "print(union_list)"
   ]
  },
  {
   "cell_type": "code",
   "execution_count": 38,
   "id": "b9396e17-73ee-402e-9761-f04ce7aab3eb",
   "metadata": {},
   "outputs": [
    {
     "name": "stdout",
     "output_type": "stream",
     "text": [
      "[3, 2, 1, 5, 4]\n"
     ]
    }
   ],
   "source": [
    "## Q.20) Write a code to shuffle a given list randomly without using any built-in shuffle functions.\n",
    "import random\n",
    "def shuffle_list(lst):\n",
    "    n = len(lst)\n",
    "    for i in range(n - 1, 0, -1):\n",
    "        # Generate a random index j such that 0 <= j <= i\n",
    "        j = random.randint(0, i)\n",
    "        \n",
    "        # Swap the elements at indices i and j\n",
    "        lst[i], lst[j] = lst[j], lst[i]\n",
    "\n",
    "my_list = [1, 2, 3, 4, 5]\n",
    "shuffle_list(my_list)\n",
    "print(my_list)"
   ]
  },
  {
   "cell_type": "code",
   "execution_count": 3,
   "id": "39340e65-9224-4e6a-a2cf-65f95d8c7db5",
   "metadata": {},
   "outputs": [
    {
     "name": "stdout",
     "output_type": "stream",
     "text": [
      "(3, 4)\n"
     ]
    }
   ],
   "source": [
    "##Q.21) Write a code that takes two tuples as input and returns a new tuple containing elements that are common to both input tuples.\n",
    "def common_elements(tuple1, tuple2):\n",
    "    # Convert tuples to sets to find common elements\n",
    "    common_set = set(tuple1) & set(tuple2)\n",
    "    # Convert the set back to a tuple\n",
    "    return tuple(common_set)\n",
    "\n",
    "tuple1 = (1, 2, 3, 4)\n",
    "tuple2 = (3, 4, 5, 6)\n",
    "result = common_elements(tuple1, tuple2)\n",
    "print(result)"
   ]
  },
  {
   "cell_type": "code",
   "execution_count": 7,
   "id": "536b49bb-675b-4ba8-b18f-e8ed362f7953",
   "metadata": {},
   "outputs": [
    {
     "name": "stdin",
     "output_type": "stream",
     "text": [
      "Enter the first set of integers separated by commas:  1,2,3,4\n",
      "Enter the second set of integers separated by commas:  3,4,5,6\n"
     ]
    },
    {
     "name": "stdout",
     "output_type": "stream",
     "text": [
      "The intersection of the two sets is: {3, 4}\n"
     ]
    }
   ],
   "source": [
    "##Q.22) Create a code that prompts the user to enter two sets of integers separated by commas. Then, print the intersection of these two sets.\n",
    "def get_set_from_input(prompt):\n",
    "    # Prompt the user to enter a set of integers separated by commas\n",
    "    user_input = input(prompt)\n",
    "    # Convert the input string into a set of integers\n",
    "    return set(map(int, user_input.split(',')))\n",
    "\n",
    "def main():\n",
    "    # Get the first and second set of integers from the user\n",
    "    set1 = get_set_from_input(\"Enter the first set of integers separated by commas: \")\n",
    "    set2 = get_set_from_input(\"Enter the second set of integers separated by commas: \")\n",
    "\n",
    "    # Find the intersection of the two sets\n",
    "    intersection = set1.intersection(set2)\n",
    "\n",
    "    # Print the result\n",
    "    print(\"The intersection of the two sets is:\", intersection)\n",
    "\n",
    "# Run the main function\n",
    "if __name__ == \"__main__\":\n",
    "    main()"
   ]
  },
  {
   "cell_type": "code",
   "execution_count": 9,
   "id": "357b734c-d449-49f5-9b33-d4ac3c4133f8",
   "metadata": {},
   "outputs": [
    {
     "name": "stdout",
     "output_type": "stream",
     "text": [
      "(1, 2, 3, 4, 5, 6)\n"
     ]
    }
   ],
   "source": [
    "##Q.23) Write a code to concatenate two tuples. The function should take two tuples as input and\n",
    "##      return a new tuple containing elements from both input tuples.\n",
    "def concatenate_tuples(tuple1, tuple2):\n",
    "    # Concatenate the two tuples\n",
    "    return tuple1 + tuple2\n",
    "\n",
    "tuple1 = (1, 2, 3)\n",
    "tuple2 = (4, 5, 6)\n",
    "result = concatenate_tuples(tuple1, tuple2)\n",
    "print(result)"
   ]
  },
  {
   "cell_type": "code",
   "execution_count": 11,
   "id": "22fa5033-6091-489e-ae8d-53c13561b94e",
   "metadata": {},
   "outputs": [
    {
     "name": "stdin",
     "output_type": "stream",
     "text": [
      "Enter the first set of strings separated by commas:  apple, banana, cherry\n",
      "Enter the second set of strings separated by commas:  banana, cherry, mango\n"
     ]
    },
    {
     "name": "stdout",
     "output_type": "stream",
     "text": [
      "Elements present in the first set but not in the second set: {'apple'}\n"
     ]
    }
   ],
   "source": [
    "## Q.24) Develop a code that prompts the user to input two sets of strings. Then, print the elements \n",
    "##       that are present in the first set but not in the second sets.\n",
    "def get_set_from_input(prompt):\n",
    "    # Prompt the user to enter a set of strings separated by commas\n",
    "    user_input = input(prompt)\n",
    "    # Convert the input string into a set of strings, trimming any extra spaces\n",
    "    return set(map(str.strip, user_input.split(',')))\n",
    "\n",
    "def main():\n",
    "    # Get the first and second set of strings from the user\n",
    "    set1 = get_set_from_input(\"Enter the first set of strings separated by commas: \")\n",
    "    set2 = get_set_from_input(\"Enter the second set of strings separated by commas: \")\n",
    "\n",
    "    # Find the difference: elements in set1 but not in set2\n",
    "    difference = set1 - set2\n",
    "\n",
    "    # Print the result\n",
    "    print(\"Elements present in the first set but not in the second set:\", difference)\n",
    "\n",
    "# Run the main function\n",
    "if __name__ == \"__main__\":\n",
    "    main()"
   ]
  },
  {
   "cell_type": "code",
   "execution_count": 13,
   "id": "c6d1050a-557b-4125-b52b-f8b61ed52011",
   "metadata": {},
   "outputs": [
    {
     "name": "stdout",
     "output_type": "stream",
     "text": [
      "(30, 40, 50)\n"
     ]
    }
   ],
   "source": [
    "## Q.25) Create a code that takes a tuple and two integers as input. The function should return\n",
    "##        a new tuple contaning elements from the original tuple within the specified range of indices.\n",
    "def slice_tuple(input_tuple, start_index, end_index):\n",
    "    # Return a new tuple containing elements within the specified range\n",
    "    return input_tuple[start_index:end_index]\n",
    "\n",
    "original_tuple = (10, 20, 30, 40, 50, 60)\n",
    "start = 2\n",
    "end = 5\n",
    "result = slice_tuple(original_tuple, start, end)\n",
    "print(result)"
   ]
  },
  {
   "cell_type": "code",
   "execution_count": 15,
   "id": "524582d5-4d27-4c19-b299-39680d0a4f52",
   "metadata": {},
   "outputs": [
    {
     "name": "stdin",
     "output_type": "stream",
     "text": [
      "Enter the first set of characters separated by commas:  p, q, r\n",
      "Enter the second set of characters separated by commas:  r, s, t\n"
     ]
    },
    {
     "name": "stdout",
     "output_type": "stream",
     "text": [
      "The union of the two sets is: {'t', 's', 'p', 'r', 'q'}\n"
     ]
    }
   ],
   "source": [
    "## Q.26) Write a code that prompts the user to input two sets of characters. Then print the union of these two sets.\n",
    "def get_set_from_input(prompt):\n",
    "    # Prompt the user to enter a set of characters separated by commas\n",
    "    user_input = input(prompt)\n",
    "    # Convert the input string into a set of characters, trimming any extra spaces\n",
    "    return set(map(str.strip, user_input.split(',')))\n",
    "\n",
    "def main():\n",
    "    # Get the first and second set of characters from the user\n",
    "    set1 = get_set_from_input(\"Enter the first set of characters separated by commas: \")\n",
    "    set2 = get_set_from_input(\"Enter the second set of characters separated by commas: \")\n",
    "\n",
    "    # Find the union of the two sets\n",
    "    union_set = set1.union(set2)\n",
    "\n",
    "    # Print the result\n",
    "    print(\"The union of the two sets is:\", union_set)\n",
    "\n",
    "# Run the main function\n",
    "if __name__ == \"__main__\":\n",
    "    main()"
   ]
  },
  {
   "cell_type": "code",
   "execution_count": 18,
   "id": "aba2d2c0-aa6c-42f5-b0bc-d74152d07c30",
   "metadata": {},
   "outputs": [
    {
     "name": "stdout",
     "output_type": "stream",
     "text": [
      "Maximum value: 91, Minimum value: 2\n"
     ]
    }
   ],
   "source": [
    "## Q,27) Develop a code that takes a tuple of integers as input. The function should return\n",
    "##       the maximum and minimum values from the tuple using tuple unpacking.\n",
    "def find_max_min(input_tuple):\n",
    "    # Find the maximum and minimum values\n",
    "    max_value = max(input_tuple)\n",
    "    min_value = min(input_tuple)\n",
    "    \n",
    "    # Return the maximum and minimum values as a tuple\n",
    "    return max_value, min_value\n",
    "\n",
    "numbers = (15, 21, 2, 91, 35)\n",
    "max_val, min_val = find_max_min(numbers)\n",
    "print(f\"Maximum value: {max_val}, Minimum value: {min_val}\")"
   ]
  },
  {
   "cell_type": "code",
   "execution_count": 22,
   "id": "7032cd29-dbbe-4c13-8796-809d8f7020ff",
   "metadata": {},
   "outputs": [
    {
     "name": "stdout",
     "output_type": "stream",
     "text": [
      "Union of the sets: {51, 52, 53, 54, 55, 56, 57, 60}\n",
      "Intersection of the sets: {53, 55}\n",
      "Difference of the sets (set1 - set2): {51, 52, 54}\n"
     ]
    }
   ],
   "source": [
    "## Q.28) Create a code that defines two sets of integers. Then print the union,intersection and difference of these two sets.\n",
    "def main():\n",
    "    # Define two sets of integers\n",
    "    set1 = {52, 55, 51, 53, 54}\n",
    "    set2 = {57, 53, 55, 56, 60}\n",
    "\n",
    "    # Calculate the union of the two sets\n",
    "    union_set = set1.union(set2)\n",
    "\n",
    "    # Calculate the intersection of the two sets\n",
    "    intersection_set = set1.intersection(set2)\n",
    "\n",
    "    # Calculate the difference between the first set and the second set\n",
    "    difference_set = set1.difference(set2)\n",
    "\n",
    "    # Print the results\n",
    "    print(f\"Union of the sets: {union_set}\")\n",
    "    print(f\"Intersection of the sets: {intersection_set}\")\n",
    "    print(f\"Difference of the sets (set1 - set2): {difference_set}\")\n",
    "\n",
    "# Run the main function\n",
    "if __name__ == \"__main__\":\n",
    "    main()"
   ]
  },
  {
   "cell_type": "code",
   "execution_count": 27,
   "id": "2dc31864-f123-4ae3-a30d-4c1f96ffeffd",
   "metadata": {},
   "outputs": [
    {
     "name": "stdout",
     "output_type": "stream",
     "text": [
      "The element 11 occurs 3 times in the tuple.\n"
     ]
    }
   ],
   "source": [
    "## Q.29) Write a code that takes a tuple and an element as input. The function should return the count of \n",
    "##       occurrences of the given element in the tuple.\n",
    "def count_occurrences(input_tuple, element):\n",
    "    # Return the count of occurrences of the element in the tuple\n",
    "    return input_tuple.count(element)\n",
    "\n",
    "numbers = (13, 11, 16, 25, 19, 11, 11)\n",
    "element_to_count = 11\n",
    "count = count_occurrences(numbers, element_to_count)\n",
    "print(f\"The element {element_to_count} occurs {count} times in the tuple.\")"
   ]
  },
  {
   "cell_type": "code",
   "execution_count": 29,
   "id": "11f3000a-cfe3-434d-9839-3973b0fdc26c",
   "metadata": {},
   "outputs": [
    {
     "name": "stdin",
     "output_type": "stream",
     "text": [
      "Enter the first set of strings separated by commas:  data science, machine learining, statistics\n",
      "Enter the second set of strings separated by commas:  statistics, data analytics, machine learining\n"
     ]
    },
    {
     "name": "stdout",
     "output_type": "stream",
     "text": [
      "The symmetric difference of the two sets is: {'data analytics', 'data science'}\n"
     ]
    }
   ],
   "source": [
    "## Q.30) Develop a code that prompts the user to input two sets of strings. Then print the symmetric difference of these two sets.\n",
    "def get_set_from_input(prompt):\n",
    "    # Prompt the user to enter a set of strings separated by commas\n",
    "    user_input = input(prompt)\n",
    "    # Convert the input string into a set of strings, trimming any extra spaces\n",
    "    return set(map(str.strip, user_input.split(',')))\n",
    "\n",
    "def main():\n",
    "    # Get the first and second set of strings from the user\n",
    "    set1 = get_set_from_input(\"Enter the first set of strings separated by commas: \")\n",
    "    set2 = get_set_from_input(\"Enter the second set of strings separated by commas: \")\n",
    "\n",
    "    # Find the symmetric difference of the two sets\n",
    "    symmetric_difference = set1.symmetric_difference(set2)\n",
    "\n",
    "    # Print the result\n",
    "    print(\"The symmetric difference of the two sets is:\", symmetric_difference)\n",
    "\n",
    "# Run the main function\n",
    "if __name__ == \"__main__\":\n",
    "    main()"
   ]
  },
  {
   "cell_type": "code",
   "execution_count": 31,
   "id": "25687e88-5659-4f2d-b121-e7d18d0c0aac",
   "metadata": {},
   "outputs": [
    {
     "name": "stdin",
     "output_type": "stream",
     "text": [
      "Enter a list of words separated by spaces:  blue yellow pink yellow blue yellow\n"
     ]
    },
    {
     "name": "stdout",
     "output_type": "stream",
     "text": [
      "Word frequencies: {'blue': 2, 'yellow': 3, 'pink': 1}\n"
     ]
    }
   ],
   "source": [
    "## Q.31) Write a code that takes a list of words as input and returns a dictionary where the keys\n",
    "##       are unique words and the values are the frequencies of those words in the input list.\n",
    "def count_word_frequencies(word_list):\n",
    "    # Create an empty dictionary to store word frequencies\n",
    "    frequency_dict = {}\n",
    "    \n",
    "    # Iterate through each word in the list\n",
    "    for word in word_list:\n",
    "        # If the word is already in the dictionary, increment its count\n",
    "        if word in frequency_dict:\n",
    "            frequency_dict[word] += 1\n",
    "        # If the word is not in the dictionary, add it with a count of 1\n",
    "        else:\n",
    "            frequency_dict[word] = 1\n",
    "    \n",
    "    return frequency_dict\n",
    "\n",
    "# Example,\n",
    "words = input(\"Enter a list of words separated by spaces: \").split()\n",
    "word_frequencies = count_word_frequencies(words)\n",
    "print(\"Word frequencies:\", word_frequencies)"
   ]
  },
  {
   "cell_type": "code",
   "execution_count": 35,
   "id": "b7b46313-1f10-4a6d-8faa-bf56cb77ddbb",
   "metadata": {},
   "outputs": [
    {
     "name": "stdout",
     "output_type": "stream",
     "text": [
      "Merged dictionary: {'x': 3, 'y': 14, 'z': 8, 'w': 4}\n"
     ]
    }
   ],
   "source": [
    "## Q.32) Write a code that takes two dictionaries as input and merges them into a single \n",
    "##       dictionary. If there are common keys, the values should be added together.\n",
    "def merge_dictionaries(dict1, dict2):\n",
    "    # Create a new dictionary to hold the merged results\n",
    "    merged_dict = dict1.copy()  # Start with a copy of the first dictionary\n",
    "    \n",
    "    # Iterate over the second dictionary\n",
    "    for key, value in dict2.items():\n",
    "        if key in merged_dict:\n",
    "            # If the key is already in the merged dictionary, add the values\n",
    "            merged_dict[key] += value\n",
    "        else:\n",
    "            # Otherwise, add the key-value pair to the merged dictionary\n",
    "            merged_dict[key] = value\n",
    "    \n",
    "    return merged_dict\n",
    "\n",
    "dict1 = {'x': 3, 'y': 5, 'z': 2}\n",
    "dict2 = {'w': 4, 'z': 6, 'y': 9}\n",
    "\n",
    "merged_dict = merge_dictionaries(dict1, dict2)\n",
    "print(\"Merged dictionary:\", merged_dict)"
   ]
  },
  {
   "cell_type": "code",
   "execution_count": 37,
   "id": "1acef801-9424-45fa-959d-90944a676806",
   "metadata": {},
   "outputs": [
    {
     "name": "stdout",
     "output_type": "stream",
     "text": [
      "Value for keys ['p', 'q', 'r']: 10\n",
      "Value for keys ['p', 'q', 's']: None\n"
     ]
    }
   ],
   "source": [
    "## Q.33) Write a code to access a value in a nested dictionary. The function should take the dictionary and a list of keys as input,\n",
    "##       and return the corresponding value. If any of the keys do not exist in the dictionary, the function should return None.\n",
    "def access_nested_value(nested_dict, keys):\n",
    "    # Initialize the current level of the dictionary to the top level\n",
    "    current_level = nested_dict\n",
    "    \n",
    "    # Iterate over each key in the list\n",
    "    for key in keys:\n",
    "        # Check if the key exists in the current level of the dictionary\n",
    "        if key in current_level:\n",
    "            # Move to the next level in the dictionary\n",
    "            current_level = current_level[key]\n",
    "        else:\n",
    "            # Return None if the key does not exist\n",
    "            return None\n",
    "    \n",
    "    # Return the final value if all keys were found\n",
    "    return current_level\n",
    "\n",
    "# Example,\n",
    "nested_dict = {\n",
    "    'p': {\n",
    "        'q': {\n",
    "            'r': 10\n",
    "        }\n",
    "    },\n",
    "    'a': {\n",
    "        'b': 20\n",
    "    }\n",
    "}\n",
    "\n",
    "keys = ['p', 'q', 'r']\n",
    "value = access_nested_value(nested_dict, keys)\n",
    "print(f\"Value for keys {keys}: {value}\")\n",
    "\n",
    "keys = ['p', 'q', 's']\n",
    "value = access_nested_value(nested_dict, keys)\n",
    "print(f\"Value for keys {keys}: {value}\")"
   ]
  },
  {
   "cell_type": "code",
   "execution_count": 40,
   "id": "53c86d6e-e6a9-4d2b-a88d-8af993327a27",
   "metadata": {},
   "outputs": [
    {
     "name": "stdout",
     "output_type": "stream",
     "text": [
      "Sorted dictionary (ascending): {'mango': 3, 'white': 6, 'red': 9, 'orange': 14}\n",
      "Sorted dictionary (descending): {'orange': 14, 'red': 9, 'white': 6, 'mango': 3}\n"
     ]
    }
   ],
   "source": [
    "## Q.34) Write a code that takes a dictionary as input and returns a sorted version of it based on the values. \n",
    "##       You can choose whether to sort in ascending or descending order.\n",
    "def sort_dict_by_values(d, ascending=True):\n",
    "    # Sort the dictionary by values\n",
    "    sorted_dict = dict(sorted(d.items(), key=lambda item: item[1], reverse=not ascending))\n",
    "    return sorted_dict\n",
    "\n",
    "# Example, \n",
    "sample_dict = {'white': 6, 'red': 9, 'mango': 3, 'orange': 14}\n",
    "\n",
    "# Sort in ascending order\n",
    "sorted_dict_asc = sort_dict_by_values(sample_dict, ascending=True)\n",
    "print(\"Sorted dictionary (ascending):\", sorted_dict_asc)\n",
    "\n",
    "# Sort in descending order\n",
    "sorted_dict_desc = sort_dict_by_values(sample_dict, ascending=False)\n",
    "print(\"Sorted dictionary (descending):\", sorted_dict_desc)"
   ]
  },
  {
   "cell_type": "code",
   "execution_count": 41,
   "id": "e0ab6d06-bf4c-4e74-8d22-e4aaf75fa3bc",
   "metadata": {},
   "outputs": [
    {
     "name": "stdout",
     "output_type": "stream",
     "text": [
      "Inverted dictionary: {5: ['p', 's'], 9: ['q'], 11: ['r']}\n"
     ]
    }
   ],
   "source": [
    "## Q.35) Write a code that inverts a dictionary, swapping keys and values. Ensure that the inverted dictionary correctly \n",
    "##       handles cases where multiple keys have the same value by storing the keys as a list in the inverted dictionary.\n",
    "def invert_dictionary(d):\n",
    "    # Create an empty dictionary to hold the inverted results\n",
    "    inverted_dict = {}\n",
    "    \n",
    "    # Iterate over each key-value pair in the original dictionary\n",
    "    for key, value in d.items():\n",
    "        # If the value is already in the inverted dictionary\n",
    "        if value in inverted_dict:\n",
    "            # Append the current key to the list of keys for this value\n",
    "            inverted_dict[value].append(key)\n",
    "        else:\n",
    "            # Create a new list with the current key\n",
    "            inverted_dict[value] = [key]\n",
    "    \n",
    "    return inverted_dict\n",
    "\n",
    "original_dict = {'p': 5, 'q': 9, 'r': 11, 's': 5}\n",
    "inverted_dict = invert_dictionary(original_dict)\n",
    "print(\"Inverted dictionary:\", inverted_dict)"
   ]
  }
 ],
 "metadata": {
  "kernelspec": {
   "display_name": "Python 3 (ipykernel)",
   "language": "python",
   "name": "python3"
  },
  "language_info": {
   "codemirror_mode": {
    "name": "ipython",
    "version": 3
   },
   "file_extension": ".py",
   "mimetype": "text/x-python",
   "name": "python",
   "nbconvert_exporter": "python",
   "pygments_lexer": "ipython3",
   "version": "3.10.8"
  }
 },
 "nbformat": 4,
 "nbformat_minor": 5
}
